{
 "cells": [
  {
   "cell_type": "code",
   "execution_count": null,
   "metadata": {},
   "outputs": [],
   "source": [
    "import Pkg\n",
    "\n",
    "Pkg.add(\"JuMP\")\n",
    "Pkg.add(\"Clp\")\n",
    "Pkg.add(\"Cbc\")\n",
    "Pkg.add(\"LinearAlgebra\")\n",
    "Pkg.add(\"Ipopt\")\n",
    "Pkg.add(\"Images\")\n",
    "Pkg.add(\"ImageView\")\n",
    "Pkg.add(\"StatsBase\")\n",
    "Pkg.add(\"Combinatorics\")\n",
    "\n",
    "using JuMP\n",
    "using Clp\n",
    "using Cbc\n",
    "using LinearAlgebra\n",
    "using Ipopt\n",
    "using Images, ImageView, StatsBase\n",
    "using Combinatorics"
   ]
  },
  {
   "cell_type": "code",
   "execution_count": 9,
   "metadata": {},
   "outputs": [
    {
     "name": "stdout",
     "output_type": "stream",
     "text": [
      "40.0[0.0 0.0 0.0 5.0; 0.0 5.0 5.0 5.0; 0.0 5.0 0.0 0.0; 5.0 5.0 0.0 5.0]"
     ]
    },
    {
     "data": {
      "text/plain": [
       "4×4 Transpose{Float64,Array{Float64,2}}:\n",
       " 0.0  0.0  0.0  5.0\n",
       " 0.0  5.0  5.0  5.0\n",
       " 0.0  5.0  0.0  0.0\n",
       " 5.0  5.0  0.0  5.0"
      ]
     },
     "execution_count": 9,
     "metadata": {},
     "output_type": "execute_result"
    }
   ],
   "source": [
    "tamanho_grid = 4\n",
    "\n",
    "img_rgb = rand(RGB, tamanho_grid, tamanho_grid)\n",
    "\n",
    "# Torna 50% das mesas vazias\n",
    "empty_tables = sample(1:length(img_rgb), Integer(length(img_rgb)/2), replace = false)\n",
    "\n",
    "for i in eachindex(img_rgb)\n",
    "    if i in empty_tables\n",
    "        img_rgb[i] = RGB(1.0, 1.0, 1.0) # Mesas brancas\n",
    "    else    \n",
    "        img_rgb[i] = RGB(0.0, 1.0, 0.0) # Mesas verdes\n",
    "    end\n",
    "end\n",
    "\n",
    "ImageView.imshow(img_rgb)\n",
    "\n",
    "satisfaction = zeros(4,4)\n",
    "\n",
    "i = 1\n",
    "j = 1\n",
    "# cria uma matriz 4x4 que define a satisfacao de cada mesa\n",
    "for it in img_rgb\n",
    "    if it == RGB{Float64}(0.0,1.0,0.0)\n",
    "        satisfaction[i,j] = 5\n",
    "    end\n",
    "    if i == tamanho_grid\n",
    "        i = 0\n",
    "        j = j+1\n",
    "    end\n",
    "    if  i != tamanho_grid\n",
    "        i=i+1\n",
    "    end\n",
    "end\n",
    "\n",
    "print(\"Soma satisfação:\", sum(satisfaction[i,j] for i=1:4, j=1:4), \"\\n\")\n",
    "\n",
    "\n",
    "i = 1\n",
    "j = 1\n",
    "\n",
    "# cria uma matriz  4x4 que define o custo de cada mesa \n",
    "print(satisfaction)\n",
    "\n",
    "satisfaction = transpose(satisfaction)"
   ]
  }
 ],
 "metadata": {
  "kernelspec": {
   "display_name": "Julia 1.4.1",
   "language": "julia",
   "name": "julia-1.4"
  },
  "language_info": {
   "file_extension": ".jl",
   "mimetype": "application/julia",
   "name": "julia",
   "version": "1.4.1"
  },
  "orig_nbformat": 4,
  "vscode": {
   "interpreter": {
    "hash": "916dbcbb3f70747c44a77c7bcd40155683ae19c65e1c03b4aa3499c5328201f1"
   }
  }
 },
 "nbformat": 4,
 "nbformat_minor": 2
}
