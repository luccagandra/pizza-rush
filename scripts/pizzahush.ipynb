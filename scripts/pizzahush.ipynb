{
 "cells": [
  {
   "attachments": {},
   "cell_type": "markdown",
   "metadata": {},
   "source": [
    "# Pizza Hush \n",
    "\n",
    "### Por: Bruno Porto e Lucca Gandra\n",
    "---\n",
    "## 1 Introdução ##\n",
    "\n",
    "Esta ideia de projeto surgiu enquanto eu e minha dupla estavamos em um rodízio de pizza e acabamos ficando um tempo sem ser atendidos pelo garçom e nos questionamos se os garçons estavam fazendo um trajeto que visava a maior satisfação dos clientes, pois se eles estavam realizando esse trajeto ideal não estava funcionando pois ficamos insatisfeitos com o atendimento, e daí veio a ideia do projeto, no qual pode ser utilizado em outros restaurantes que não sejam rodízios e em outros contextos como trajeto de entrega de comida pelo motoboy.\n",
    "\n",
    "Este projeto visa pegar um set de mesas dentro de um restaurante rodízio e otimizar os caminhos que devem ser feitos pelo garçom para que se obtenha uma maior satisfação dos clientes, de forma que os clientes que recém chegaram no estabelecimento sejam atendidos primeiro porém não deixando de atender mesas que já estão a mais tempo. Caso uma mesa passe muito tempo sem ser atendida a satisfação do cliente decai fazendo que ele não dê gorjetas ao sair do estabelecimento, porém se sua satisfação for alta ele dará gorjetas altas.\n",
    "Este problema será abordado com um sistema onde o restaurante vai estar meio cheio e que com o tempo o nível de clientes vai subindo e os que já tiverem sido atendidos mais de 6 vezes sairão do estabelecimento, aqueles em que ficarem com satisfação muito baixa deixarão o restaurante e sua contagem se manterão afetando a média, essas circunstancias serão lidadas de três maneiras: \n",
    "- Um garçom com 10 fatias, mesas pegam entre 1 ou 2 fatias e poucas mesas no restaurante.\n",
    "- Um garçom com 10 fatias, mesas pegam entre 1 ou 2 fatias e bastantes mesas no restaurante.\n",
    "- Dois garçons com 10 fatias cada e mesas que pegam entre 2 ou 3 fatias e bastantes mesas no restaurante.\n",
    "\n",
    "Nas três situções serão plotados gráficos das rodadas relacionados com a satisfação média dos clientes e das rodadas com a quantidade de clientes no restaurante para poder comparar e verificar.\n"
   ]
  },
  {
   "cell_type": "markdown",
   "metadata": {},
   "source": [
    "## 2. Modelo matemático ##\n",
    "\n",
    "Esta seção deve conter uma discussão das hipóteses de modelagem feitas no problema (conforme a origem do problema: física? economia? redes sociais? ...). Explique a escolha das variáveis de decisão, as restrições e a função objetivo. Finalmente, mostre o problema de otimização escrite em forma padrão. Discute o tipo de modelo adotado (LP, QP, MIP, etc.). Equações devem ser formatadas em $\\LaTeX$ dentro do notebook Julia. Nesta seção, pode supor que **o leitor está familiarizado com a matéria\"**.\n",
    "\n",
    "Eis um exemplo de uma equação:\n",
    "\n",
    "$$\n",
    "\\begin{bmatrix}\n",
    "  1 & 2 \\\\\n",
    "  3 & 4\n",
    "\\end{bmatrix}\n",
    "\\begin{bmatrix} x \\\\ y \\end{bmatrix} =\n",
    "\\begin{bmatrix} 5 \\\\ 6 \\end{bmatrix}\n",
    "$$\n",
    "\n",
    "Aqui está um exemplo de um problema de otimização no formato padrão:\n",
    "\n",
    "$$\n",
    "\\begin{aligned}\n",
    "\\underset{x \\in \\mathbb{R^n}}{\\text{maximize}}\\qquad& f_0(x) \\\\\n",
    "\\text{sujeito a:}\\qquad& f_i(x) \\le 0 && i=1,\\dots,m\\\\\n",
    "& h_j(x) = 0 && j=1,\\dots,r\n",
    "\\end{aligned}\n",
    "$$\n",
    "\n",
    "Para algumas dicas rápidas sobre a utilizção de $\\LaTeX$, veja [este cheat sheet](http://users.dickinson.edu/~richesod/latex/latexcheatsheet.pdf)."
   ]
  },
  {
   "attachments": {},
   "cell_type": "markdown",
   "metadata": {},
   "source": [
    "## 3. Solução ##\n",
    "\n",
    "Nesta seção, coloque seu código em Julia + JuMP e resolva o problema proposto. Seu código deve ser limpo (não macarrônico!), de fácil leitura, bem comentado e anotado e deve compilar sem erros em Julia 1.x, x$\\geq 1$! Não valem códigos em outras linguagens. **Vou rodar seu código para avaliar seu projeto**. Sugiro a utilização de múltiplos blocos de códigos separados por blocos de texto (células Markdown) explicando as várias partes da sua solução. Sugiro também a resolução de várias versões do seu problema, com modelos e hipóteses diferentes.\n",
    "\n",
    "É permitido chamar pacotes externos, mas evite a utilização de bibliotecas exóticas (pois, em geral, não rodam em todas as versões de Julia, e terei que instalar a mesma versão que você usou, ou rodar na plataforma Google Colab, que gostaria de evitar)."
   ]
  },
  {
   "cell_type": "code",
   "execution_count": null,
   "metadata": {},
   "outputs": [],
   "source": [
    "using JuMP, Clp"
   ]
  }
 ],
 "metadata": {
  "kernelspec": {
   "display_name": "Julia 1.8.4",
   "language": "julia",
   "name": "julia-1.8"
  },
  "language_info": {
   "name": "julia"
  },
  "orig_nbformat": 4
 },
 "nbformat": 4,
 "nbformat_minor": 2
}
