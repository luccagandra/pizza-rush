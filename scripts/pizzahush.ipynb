{
 "cells": [
  {
   "attachments": {},
   "cell_type": "markdown",
   "metadata": {},
   "source": [
    "# Pizza Rush \n",
    "\n",
    "### Por: Bruno Porto e Lucca Gandra\n",
    "---\n",
    "## 1 Introdução ##\n",
    "\n",
    "Esta ideia de projeto surgiu enquanto eu e minha dupla estavamos em um rodízio de pizza e acabamos ficando um tempo sem ser atendidos pelo garçom e nos questionamos se os garçons estavam fazendo um trajeto que visava a maior satisfação dos clientes, pois se eles estavam realizando esse trajeto ideal não estava funcionando pois ficamos insatisfeitos com o atendimento, e daí veio a ideia do projeto, no qual pode ser utilizado em outros restaurantes que não sejam rodízios e em outros contextos como trajeto de entrega de comida pelo motoboy.\n",
    "\n",
    "Este projeto visa pegar um set de mesas dentro de um restaurante rodízio e otimizar os caminhos que devem ser feitos pelo garçom para que se obtenha uma maior satisfação dos clientes, de forma que os clientes que recém chegaram no estabelecimento sejam atendidos primeiro porém não deixando de atender mesas que já estão a mais tempo. Caso uma mesa passe muito tempo sem ser atendida a satisfação do cliente decai fazendo que ele não dê gorjetas ao sair do estabelecimento, porém se sua satisfação for alta ele dará gorjetas altas.\n",
    "Este problema será abordado com um sistema onde o restaurante vai estar meio cheio e que com o tempo o nível de clientes vai subindo e os que já tiverem sido atendidos mais de 6 vezes sairão do estabelecimento, aqueles em que ficarem com satisfação muito baixa deixarão o restaurante e sua contagem se manterão afetando a média, o garçom deverá começar sua jornada entre as mesas escolhendo uma inicial a cada rodada, e então se movimentar entre as mesas que estão próximas as que ele escolher, essas circunstancias serão lidadas de três maneiras: \n",
    "- Um garçom com 10 fatias, mesas pegam entre 1 ou 2 fatias e poucas mesas no restaurante.\n",
    "- Um garçom com 10 fatias, mesas pegam entre 1 ou 2 fatias e bastantes mesas no restaurante.\n",
    "- Dois garçons com 10 fatias cada e mesas que pegam entre 2 ou 3 fatias e bastantes mesas no restaurante.\n",
    "\n",
    "Nas três situções serão plotados gráficos das rodadas relacionados com a satisfação média dos clientes e das rodadas com a quantidade de clientes no restaurante para poder comparar e verificar.\n"
   ]
  },
  {
   "attachments": {},
   "cell_type": "markdown",
   "metadata": {},
   "source": [
    "## 2. Modelo matemático ##\n",
    "<!-- \n",
    "Esta seção deve conter uma discussão das hipóteses de modelagem feitas no problema (conforme a origem do problema: física? economia? redes sociais? ...). Explique a escolha das variáveis de decisão, as restrições e a função objetivo. Finalmente, mostre o problema de otimização escrite em forma padrão. Discute o tipo de modelo adotado (LP, QP, MIP, etc.). Equações devem ser formatadas em $\\LaTeX$ dentro do notebook Julia. Nesta seção, pode supor que **o leitor está familiarizado com a matéria\"**.\n",
    "\n",
    "Eis um exemplo de uma equação: -->\n",
    "\n",
    "\n",
    "\n",
    "\n",
    "\n",
    "Este problema que foi idealizado é um problema baseado roteamento de nós, assim como no caixeiro viajante, pois nele o garçom deve encontrar o caminho entre os nós que maximize a satisfação dos clientes, as variaveis de decisão são pontos X[i, j] dentro de uma matriz que variam de 0 a 5, elas assim representando a satisfação de casa mesa, as restrições são as seguintes: \n",
    "- se a satisfação estiver entre 5 e 3 a mesa pega uma fatia \n",
    "- se for menor ou igual a 3 a mesa pega duas fatias, dessa maneira, afetando o custo da movimentação do garçom\n",
    "- se o custo do percurso total for maior que 10  este percuso se torna impossível para o garçom\n",
    "- o garçom também deve se movimentar de acordo com as mesas perto dele, isto é, dentro de uma matriz se ele estiver na posição X[3, 3] ele só podera se movimentar para as mesas na qual \n",
    "\n",
    "$$ |(3-i)+ (3-j)| \\le 2 $$ \n",
    "\n",
    "E por fim, o objetivo é que no final de cada rodada o garçom maximize a satisfação com um caminho possível de ser feito com 10 fatias de pizza.\n",
    "\n",
    "\n",
    "A matriz do restaurante no começo da primeira rodada vai ser assim \n",
    "\n",
    "$$\n",
    "X_{ij} =\n",
    "\\begin{bmatrix}\n",
    "  5 & 0 & 5 & 5 \\\\\n",
    "  5 & 5 & 0 & 5 \\\\\n",
    "  5 & 0 & 5 & 5 \\\\\n",
    "  5 & 5 & 0 & 5\n",
    "\\end{bmatrix}\n",
    "% \\begin{bmatrix} x \\\\ y \\end{bmatrix} =\n",
    "% \\begin{bmatrix} 5 \\\\ 6 \\end{bmatrix}\n",
    "$$\n",
    "\n",
    "Onde as posições tem 0 serão mesas desocupadas (estas mesas não afetarão na satisfação total) e as que tem 5 são as que já estão ocupadas e com satisfação máxima\n",
    "\n",
    "Modelo matemático das restrições:\n",
    "\n",
    "$$\n",
    "\n",
    "\\left\\{3 < X_{ij} \\le 5;    C = 1\\right\\}\\\\~\\\\\n",
    "\\left\\{ X_{ij} \\le 3; C = 2\\right\\}\\\\~\\\\\n",
    "\\left\\{ X_{ij} \\le 3; C = 2\\right\\}\\\\~\\\\\n",
    "\\displaystyle \\sum_{i\\in S}\\sum_{j \\in S} C_{ij} \\le 10\\\\~\\\\\n",
    "% S_{ij} = 1 \\to |i-j| = \\{1, 3, 4, 5\\} \n",
    "\n",
    "\n",
    "$$\n",
    "Onde C é o custo e S é a solução encontrada\n",
    "\n",
    "O modelo matemático do objetivo:\n",
    "\n",
    "\n",
    "$$\n",
    "\\begin{aligned}\n",
    "\\underset{x \\in \\mathbb{R^n}}{\\text{maximize}}\\qquad& \\sum_{i=1}^{4}\\sum_{j =1}^{4} X_{ij} \\\\\n",
    "\\text{sujeito a:}\\qquad& \\left\\{3 < X_{ij} \\le 5;    C = 1\\right\\} \\\\\n",
    "& \\left\\{ X_{ij} \\le 3; C = 2\\right\\}\\\\\n",
    "& \\left\\{ X_{ij} \\le 3; C = 2\\right\\}\\\\\n",
    "& \\displaystyle \\sum_{i\\in S}\\sum_{j \\in S} C_{ij} \\le 10\\\\\n",
    "& S_{ij} = 1 \\to |i-j| = \\{1, 3, 4, 5\\} \n",
    "\\end{aligned}\n",
    "$$\n",
    "\n",
    "Para algumas dicas rápidas sobre a utilizção de $\\LaTeX$, veja [este cheat sheet](http://users.dickinson.edu/~richesod/latex/latexcheatsheet.pdf)."
   ]
  },
  {
   "attachments": {},
   "cell_type": "markdown",
   "metadata": {},
   "source": [
    "## 3. Solução ##\n",
    "\n",
    "Nesta seção, coloque seu código em Julia + JuMP e resolva o problema proposto. Seu código deve ser limpo (não macarrônico!), de fácil leitura, bem comentado e anotado e deve compilar sem erros em Julia 1.x, x$\\geq 1$! Não valem códigos em outras linguagens. **Vou rodar seu código para avaliar seu projeto**. Sugiro a utilização de múltiplos blocos de códigos separados por blocos de texto (células Markdown) explicando as várias partes da sua solução. Sugiro também a resolução de várias versões do seu problema, com modelos e hipóteses diferentes.\n",
    "\n",
    "É permitido chamar pacotes externos, mas evite a utilização de bibliotecas exóticas (pois, em geral, não rodam em todas as versões de Julia, e terei que instalar a mesma versão que você usou, ou rodar na plataforma Google Colab, que gostaria de evitar).\n",
    "\n"
   ]
  },
  {
   "attachments": {},
   "cell_type": "markdown",
   "metadata": {},
   "source": [
    "### 3.1. Interface\n"
   ]
  },
  {
   "cell_type": "code",
   "execution_count": 7,
   "metadata": {},
   "outputs": [
    {
     "name": "stderr",
     "output_type": "stream",
     "text": [
      "\u001b[32m\u001b[1m  Resolving\u001b[22m\u001b[39m package versions...\n",
      "\u001b[32m\u001b[1m   Updating\u001b[22m\u001b[39m `~/.julia/environments/v1.4/Project.toml`\n",
      "\u001b[90m [no changes]\u001b[39m\n",
      "\u001b[32m\u001b[1m   Updating\u001b[22m\u001b[39m `~/.julia/environments/v1.4/Manifest.toml`\n",
      "\u001b[90m [no changes]\u001b[39m\n",
      "\u001b[32m\u001b[1m  Resolving\u001b[22m\u001b[39m package versions...\n",
      "\u001b[32m\u001b[1m   Updating\u001b[22m\u001b[39m `~/.julia/environments/v1.4/Project.toml`\n",
      "\u001b[90m [no changes]\u001b[39m\n",
      "\u001b[32m\u001b[1m   Updating\u001b[22m\u001b[39m `~/.julia/environments/v1.4/Manifest.toml`\n",
      "\u001b[90m [no changes]\u001b[39m\n",
      "\u001b[32m\u001b[1m  Resolving\u001b[22m\u001b[39m package versions...\n",
      "\u001b[32m\u001b[1m   Updating\u001b[22m\u001b[39m `~/.julia/environments/v1.4/Project.toml`\n",
      "\u001b[90m [no changes]\u001b[39m\n",
      "\u001b[32m\u001b[1m   Updating\u001b[22m\u001b[39m `~/.julia/environments/v1.4/Manifest.toml`\n",
      "\u001b[90m [no changes]\u001b[39m\n",
      "\u001b[32m\u001b[1m  Resolving\u001b[22m\u001b[39m package versions...\n",
      "\u001b[32m\u001b[1m   Updating\u001b[22m\u001b[39m `~/.julia/environments/v1.4/Project.toml`\n",
      "\u001b[90m [no changes]\u001b[39m\n",
      "\u001b[32m\u001b[1m   Updating\u001b[22m\u001b[39m `~/.julia/environments/v1.4/Manifest.toml`\n",
      "\u001b[90m [no changes]\u001b[39m\n",
      "\u001b[32m\u001b[1m  Resolving\u001b[22m\u001b[39m package versions...\n",
      "\u001b[32m\u001b[1m   Updating\u001b[22m\u001b[39m `~/.julia/environments/v1.4/Project.toml`\n",
      "\u001b[90m [no changes]\u001b[39m\n",
      "\u001b[32m\u001b[1m   Updating\u001b[22m\u001b[39m `~/.julia/environments/v1.4/Manifest.toml`\n",
      "\u001b[90m [no changes]\u001b[39m\n",
      "\u001b[32m\u001b[1m  Resolving\u001b[22m\u001b[39m package versions...\n",
      "\u001b[32m\u001b[1m   Updating\u001b[22m\u001b[39m `~/.julia/environments/v1.4/Project.toml`\n",
      "\u001b[90m [no changes]\u001b[39m\n",
      "\u001b[32m\u001b[1m   Updating\u001b[22m\u001b[39m `~/.julia/environments/v1.4/Manifest.toml`\n",
      "\u001b[90m [no changes]\u001b[39m\n"
     ]
    },
    {
     "data": {
      "text/plain": [
       "A JuMP Model\n",
       "Feasibility problem with:\n",
       "Variables: 0\n",
       "Model mode: AUTOMATIC\n",
       "CachingOptimizer state: NO_OPTIMIZER\n",
       "Solver name: No optimizer attached."
      ]
     },
     "execution_count": 7,
     "metadata": {},
     "output_type": "execute_result"
    }
   ],
   "source": [
    "Pkg.add(\"IJulia\")\n",
    "Pkg.add(\"JuMP\")\n",
    "#Pkg.add(\"PyPlot\")\n",
    "Pkg.add(\"Ipopt\")\n",
    "Pkg.add(\"LinearAlgebra\")\n",
    "Pkg.add(\"Cbc\")\n",
    "Pkg.add(\"Clp\")\n",
    "\n",
    "using Pkg\n",
    "using JuMP\n",
    "using Clp\n",
    "using Cbc\n",
    "using LinearAlgebra\n",
    "#using PyPlot\n",
    "using Ipopt\n",
    "\n",
    "m = Model()\n"
   ]
  },
  {
   "cell_type": "code",
   "execution_count": 15,
   "metadata": {},
   "outputs": [
    {
     "name": "stdout",
     "output_type": "stream",
     "text": [
      "[30, 40, 7, 28, 62, 24, 6, 2, 25, 56, 59, 20, 43, 64, 57, 23, 61, 36, 10, 4, 46, 11, 33, 35, 32, 12, 60, 44, 48, 22, 39, 27]"
     ]
    },
    {
     "data": {
      "text/plain": [
       "Dict{String,Any} with 4 entries:\n",
       "  \"gui\"         => Dict{String,Any}(\"window\"=>GtkWindowLeaf(name=\"\", parent, wi…\n",
       "  \"roi\"         => Dict{String,Any}(\"redraw\"=>300: \"map(clim-mapped image, inpu…\n",
       "  \"annotations\" => 253: \"input-62\" = Dict{UInt64,Any}() Dict{UInt64,Any} \n",
       "  \"clim\"        => 252: \"CLim\" = CLim{RGB{Float64}}(RGB{Float64}(0.0,0.0,0.0), …"
      ]
     },
     "execution_count": 15,
     "metadata": {},
     "output_type": "execute_result"
    }
   ],
   "source": [
    "#Pkg.add(\"Images\")\n",
    "#Pkg.add(\"ImageView\")\n",
    "#Pkg.add(\"StatsBase\")\n",
    "\n",
    "#=\n",
    "rgb(0, 255, 0) Green\n",
    "rgb(127, 255, 0)\n",
    "rgb(255, 255, 0)\n",
    "rgb(255, 105, 0)\n",
    "rgb(255, 0, 0) Red\n",
    "=#\n",
    "\n",
    "using Images, ImageView, StatsBase\n",
    "img_rgb = rand(RGB, 8, 8)\n",
    "\n",
    "# Torna 50% das mesas vazias\n",
    "empty_tables = sample(1:length(img_rgb), Integer(length(img_rgb)/2), replace = false)\n",
    "\n",
    "print(empty_tables)\n",
    "\n",
    "# Torna todas as mesas verdes\n",
    "for i in eachindex(img_rgb)\n",
    "    if i in empty_tables\n",
    "        img_rgb[i] = RGB(0.0, 1.0, 0.0)\n",
    "    else    \n",
    "        img_rgb[i] = RGB(1.0, 1.0, 1.0)\n",
    "    end\n",
    "end\n",
    "\n",
    "# Criação de um array que registra o tempo de permanência das pessoas em cada mesa\n",
    "\n",
    "\n",
    "#print(img_rgb) \n",
    "ImageView.imshow(img_rgb)"
   ]
  },
  {
   "cell_type": "code",
   "execution_count": 26,
   "metadata": {},
   "outputs": [
    {
     "name": "stdout",
     "output_type": "stream",
     "text": [
      "1"
     ]
    }
   ],
   "source": [
    "# Iterações principais do programa\n",
    "\n",
    "for i in 1:1\n",
    "    # Em cada iteração, empty_tables diminui em uma taxa fixa: 5% da capacidade (Entram clientes)\n",
    "    nbr_new_clients = Integer(round(length(img_rgb)/20))\n",
    "    deleteat!(empty_tables, 1:nbr_new_clients)\n",
    "\n",
    "    #=\n",
    "    Em cada iteração, empty_tables aumenta em uma taxa fixa e uma variável:\n",
    "\n",
    "    Fixa: 2% da capacidade. Variável: caso satisfação chegue a 0\n",
    "    =#\n",
    "\n",
    "    nbr_quitters = Integer(round(length(img_rgb)/50))\n",
    "    \n",
    "    quitter = Integer(rand(1:length(img_rgb)))\n",
    "\n",
    "    while True\n",
    "        if quitter in empty_tables\n",
    "            quitter = Integer(rand(1:length(img_rgb)))\n",
    "        end\n",
    "    end\n",
    "\n",
    "    print(quitter)\n",
    "    push!(empty_tables, )\n",
    "    \n",
    "\n",
    "end"
   ]
  },
  {
   "cell_type": "code",
   "execution_count": 11,
   "metadata": {},
   "outputs": [],
   "source": [
    "#=\n",
    "maximize satisfacao/pessoas\n",
    "\n",
    "0 < pizza <= 10\n",
    "0 < satisfação <= 5\n",
    "pessoas = 5 +1*rodada vai até 50\n",
    "=#\n",
    " "
   ]
  },
  {
   "attachments": {},
   "cell_type": "markdown",
   "metadata": {},
   "source": [
    "## 4. Resultados e discussão ##\n",
    "\n",
    "Neste seção, os resultados obtidos serão exibidos e discutidos. Mostre figuras, gráficos, imagens, curvas de compromisso, e o que mais puder melhor ilustrar seus resultados. A discussão deverá explicar o que significam os resultados e como interpretá-los. As limitações da sua abordagem/modelo também devem ser colocadas, bem como uma análise da sensibilidade dos resultados em relação às hipóteses feitas.\n",
    "\n",
    "\n",
    "Utilize plots (veja exemplos  `PyPlot` [aqui](https://gist.github.com/gizmaa/7214002))\n",
    "\n",
    "Aqui está um exemplo de uma tabela (em Markdown):\n",
    "\n",
    "| Tabelas        | São           | Boas  |\n",
    "| ------------- |:-------------:| -----:|\n",
    "| col 3 é      | alinhado à direita |\\$1600 |\n",
    "| col 2 é      | centrado      |  \\$12 |\n",
    "| texto | também serve      |   \\$1 |\n",
    "\n",
    "### 4.A. Subseções devem ser utilizadas para organizar seu texto.\n",
    "\n",
    "#### 4.A.a. ou até subsubseções."
   ]
  },
  {
   "attachments": {},
   "cell_type": "markdown",
   "metadata": {},
   "source": [
    "## 5. Conclusão ##\n",
    "\n",
    "Faça um resumo do que encontrou e dos seus resultados, e fale de pelo menos uma direção na qual  seu trabalho pode ser desenvolvido no futuro, algo que poderia ser interessante em decorrência do seu projeto.\n",
    "\n"
   ]
  }
 ],
 "metadata": {
  "kernelspec": {
   "display_name": "Julia 1.4.1",
   "language": "julia",
   "name": "julia-1.4"
  },
  "language_info": {
   "file_extension": ".jl",
   "mimetype": "application/julia",
   "name": "julia",
   "version": "1.4.1"
  },
  "orig_nbformat": 4,
  "vscode": {
   "interpreter": {
    "hash": "916dbcbb3f70747c44a77c7bcd40155683ae19c65e1c03b4aa3499c5328201f1"
   }
  }
 },
 "nbformat": 4,
 "nbformat_minor": 2
}
